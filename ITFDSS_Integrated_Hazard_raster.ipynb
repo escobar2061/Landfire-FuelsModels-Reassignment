{
 "cells": [
  {
   "cell_type": "code",
   "execution_count": 37,
   "id": "3d0cc729",
   "metadata": {},
   "outputs": [],
   "source": [
    "# %% ----------------------------- DEPENDENCIES -------------------------------\n",
    "import os\n",
    "import numpy as np\n",
    "import rasterio\n",
    "\n"
   ]
  },
  {
   "cell_type": "code",
   "execution_count": 38,
   "id": "96cb785f",
   "metadata": {},
   "outputs": [],
   "source": [
    "\n",
    "\n",
    "# %% --------------------------- IFTDSS MATRIX & BINS -------------------------\n",
    "# IFTDSS Integrated Hazard lookup (rows=CFL bin, cols=BP % of max bin)\n",
    "# CFL bins: 0:0–2, 1:2–4, 2:4–6, 3:6–8, 4:8–12, 5:>12 (ft)\n",
    "# BP  bins: 0:0–20%, 1:20–40%, 2:40–60%, 3:60–80%, 4:80–100%\n",
    "IH_LOOKUP = np.array([\n",
    "    [1, 1, 1, 1, 2],  # CFL 0–2\n",
    "    [1, 1, 2, 2, 3],  # 2–4\n",
    "    [1, 2, 3, 3, 4],  # 4–6\n",
    "    [2, 3, 3, 4, 4],  # 6–8\n",
    "    [3, 3, 4, 4, 5],  # 8–12\n",
    "    [4, 4, 4, 5, 5],  # >12\n",
    "], dtype=np.int8)\n",
    "\n",
    "def bin_bp_pct(bp_pct: np.ndarray) -> np.ndarray:\n",
    "    \"\"\"Map BP_pct ∈ [0,1] to 5 ordinal classes (0..4) with half-open bins.\"\"\"\n",
    "    out = np.full(bp_pct.shape, 4, dtype=np.uint8)  # default top\n",
    "    out[bp_pct < 0.80] = 3\n",
    "    out[bp_pct < 0.60] = 2\n",
    "    out[bp_pct < 0.40] = 1\n",
    "    out[bp_pct < 0.20] = 0\n",
    "    return out\n",
    "\n",
    "def bin_cfl_ft(cfl: np.ndarray) -> np.ndarray:\n",
    "    \"\"\"Map CFL (ft) to 6 ordinal classes (0..5): 0–2, 2–4, 4–6, 6–8, 8–12, >12.\"\"\"\n",
    "    out = np.full(cfl.shape, 5, dtype=np.uint8)   # default >12\n",
    "    m = cfl < 12; out[m] = 4\n",
    "    m = cfl < 8;  out[m] = 3\n",
    "    m = cfl < 6;  out[m] = 2\n",
    "    m = cfl < 4;  out[m] = 1\n",
    "    m = cfl < 2;  out[m] = 0\n",
    "    return out\n",
    "\n",
    "def write_like(ref_ds, out_path, arr, dtype=None, nodata=None, compress=\"lzw\"):\n",
    "    prof = ref_ds.profile.copy()\n",
    "    prof.update({\n",
    "        \"count\": 1,\n",
    "        \"dtype\": (dtype or arr.dtype),\n",
    "        \"compress\": compress,\n",
    "        \"tiled\": True,\n",
    "        \"interleave\": \"band\",\n",
    "    })\n",
    "    if nodata is not None:\n",
    "        prof[\"nodata\"] = nodata\n",
    "    os.makedirs(os.path.dirname(out_path), exist_ok=True)\n",
    "    data = arr\n",
    "    if np.ma.isMaskedArray(arr):\n",
    "        data = np.array(arr.filled(nodata if nodata is not None else np.nan))\n",
    "    with rasterio.open(out_path, \"w\", **prof) as dst:\n",
    "        dst.write(data, 1)\n",
    "\n"
   ]
  },
  {
   "cell_type": "code",
   "execution_count": 39,
   "id": "f423c009",
   "metadata": {},
   "outputs": [],
   "source": [
    "# %% ------------------------- COMPUTE METRICS --------------------------\n",
    "def compute_ih_from_rasters(bp_path: str,\n",
    "                            cfl_path: str,\n",
    "                            output_dir: str,\n",
    "                            out_names: dict | None = None) -> dict:\n",
    "    \"\"\"\n",
    "    Runs the IH workflow for a single fireshed (aligned, clipped rasters).\n",
    "    Returns a small summary dict with paths and stats.\n",
    "    \"\"\"\n",
    "    os.makedirs(output_dir, exist_ok=True)\n",
    "\n",
    "    names = {\n",
    "        \"IH\":       \"IH_class.tif\",\n",
    "        \"HAZ\":      \"hazard_bp_x_cfl.tif\",\n",
    "        \"BP_PCT\":   \"BP_pct_of_max.tif\",\n",
    "        \"BP_BIN\":   \"BP_bin.tif\",\n",
    "        \"CFL_BIN\":  \"CFL_bin.tif\",\n",
    "    }\n",
    "    if out_names:\n",
    "        names.update(out_names)\n",
    "\n",
    "    # Open rasters\n",
    "    with rasterio.open(bp_path) as bp_ds, rasterio.open(cfl_path) as cfl_ds:\n",
    "        # --- CRS check ------------------------------------------------------------\n",
    "        if bp_ds.crs != cfl_ds.crs:\n",
    "            print(\"\\n❌ CRS mismatch detected:\")\n",
    "            print(f\"  BP : {bp_path}\")\n",
    "            print(f\"    → {bp_ds.crs}\")\n",
    "            print(f\"  CFL: {cfl_path}\")\n",
    "            print(f\"    → {cfl_ds.crs}\")\n",
    "            raise ValueError(\"CRS mismatch between BP and CFL rasters.\")\n",
    "\n",
    "        # --- Grid / transform / size check ----------------------------------------\n",
    "        grid_ok = (\n",
    "            (bp_ds.transform == cfl_ds.transform)\n",
    "            and (bp_ds.width == cfl_ds.width)\n",
    "            and (bp_ds.height == cfl_ds.height)\n",
    "        )\n",
    "        if not grid_ok:\n",
    "            print(\"\\n❌ Grid alignment mismatch detected:\")\n",
    "            print(f\"  BP  transform : {bp_ds.transform}\")\n",
    "            print(f\"  CFL transform : {cfl_ds.transform}\")\n",
    "            print(f\"  BP  size (width × height): {bp_ds.width} × {bp_ds.height}\")\n",
    "            print(f\"  CFL size (width × height): {cfl_ds.width} × {cfl_ds.height}\")\n",
    "            raise ValueError(\"Grid alignment mismatch (transform/size) between BP and CFL rasters.\")\n",
    "\n",
    "        bp  = bp_ds.read(1, masked=True)\n",
    "        cfl = cfl_ds.read(1, masked=True)\n",
    "\n",
    "        # Valid where both rasters have data\n",
    "        valid = (~bp.mask) & (~cfl.mask)\n",
    "\n",
    "        # BP percent-of-max (within this clipped raster)\n",
    "        bp_max = float(bp.data[valid].max()) if valid.any() else 0.0\n",
    "        bp_pct = np.ma.zeros_like(bp, dtype=\"float32\"); bp_pct.mask = ~valid\n",
    "        bp_pct[valid] = (bp.data[valid] / bp_max) if bp_max > 0 else 0.0\n",
    "\n",
    "        # Bins\n",
    "        bp_bin  = np.ma.zeros_like(bp,  dtype=\"uint8\");  bp_bin.mask  = ~valid\n",
    "        cfl_bin = np.ma.zeros_like(cfl, dtype=\"uint8\");  cfl_bin.mask = ~valid\n",
    "        bp_bin.data[valid]  = bin_bp_pct(bp_pct.data[valid])\n",
    "        cfl_bin.data[valid] = bin_cfl_ft(cfl.data[valid])\n",
    "\n",
    "        # Continuous hazard (optional): BP * CFL\n",
    "        hazard = np.ma.zeros_like(bp, dtype=\"float32\"); hazard.mask = ~valid\n",
    "        hazard[valid] = bp.data[valid] * cfl.data[valid]\n",
    "\n",
    "        # Integrated Hazard via lookup (1..5), then PBurn==0 -> 0\n",
    "        IH = np.ma.zeros_like(bp, dtype=\"int16\"); IH.mask = ~valid\n",
    "        rows = cfl_bin.data[valid].astype(np.intp)\n",
    "        cols = bp_bin.data[valid].astype(np.intp)\n",
    "        IH_vals = IH_LOOKUP[rows, cols].astype(np.int16)\n",
    "        IH.data[valid] = IH_vals\n",
    "\n",
    "        pburn_zero = valid & (bp.data == 0)\n",
    "        IH.data[pburn_zero] = 0\n",
    "\n",
    "        # Write outputs\n",
    "        write_like(bp_ds, os.path.join(output_dir, names[\"BP_PCT\"]),  bp_pct,  dtype=\"float32\", nodata=np.nan)\n",
    "        write_like(bp_ds, os.path.join(output_dir, names[\"BP_BIN\"]),  bp_bin,  dtype=\"uint8\",  nodata=255)\n",
    "        write_like(bp_ds, os.path.join(output_dir, names[\"CFL_BIN\"]), cfl_bin, dtype=\"uint8\",  nodata=255)\n",
    "        write_like(bp_ds, os.path.join(output_dir, names[\"HAZ\"]),     hazard,  dtype=\"float32\", nodata=np.nan)\n",
    "        write_like(bp_ds, os.path.join(output_dir, names[\"IH\"]),      IH,      dtype=\"int16\",   nodata=-9999)\n",
    "\n",
    "    return {\n",
    "        \"bp_path\": bp_path,\n",
    "        \"cfl_path\": cfl_path,\n",
    "        \"output_dir\": output_dir,\n",
    "        \"bp_max_within_clip\": bp_max,\n",
    "        \"pct_valid\": float(valid.sum()) / float(valid.size) if valid.size else 0.0,\n",
    "        \"written\": {k: os.path.join(output_dir, v) for k, v in names.items()},\n",
    "    }"
   ]
  },
  {
   "cell_type": "code",
   "execution_count": 40,
   "id": "7b9200e1",
   "metadata": {},
   "outputs": [
    {
     "name": "stderr",
     "output_type": "stream",
     "text": [
      "<>:3: SyntaxWarning: invalid escape sequence '\\o'\n",
      "<>:3: SyntaxWarning: invalid escape sequence '\\o'\n",
      "C:\\Users\\bsf31\\AppData\\Local\\Temp\\ipykernel_27752\\2989899511.py:3: SyntaxWarning: invalid escape sequence '\\o'\n",
      "  \"\"\"\n"
     ]
    }
   ],
   "source": [
    "# %% ------------------------------ BATCH WRAPPER -----------------------------\n",
    "def run_fireshed_batch(jobs: list[dict]) -> list[dict]:\n",
    "    \"\"\"\n",
    "    jobs: list of dicts, each like:\n",
    "      {\n",
    "        \"bp\": r\"...\\fireshedA_BP.tif\",\n",
    "        \"cfl\": r\"...\\fireshedA_CFL_ft.tif\",\n",
    "        \"out_dir\": r\"...\\fireshedA\\outputs\",\n",
    "        # optional:\n",
    "        \"names\": {\"IH\": \"IH_class.tif\", ...}\n",
    "      }\n",
    "    Returns a list of per-job summaries.\n",
    "    \"\"\"\n",
    "    summaries: list[dict] = []\n",
    "    for i, job in enumerate(jobs, start=1):\n",
    "        bp_path  = job[\"bp\"]\n",
    "        cfl_path = job[\"cfl\"]\n",
    "        out_dir  = job[\"out_dir\"]\n",
    "        names    = job.get(\"names\")\n",
    "\n",
    "        print(f\"[{i}/{len(jobs)}] Processing\\n  BP : {bp_path}\\n  CFL: {cfl_path}\\n  →  {out_dir}\")\n",
    "        try:\n",
    "            summary = compute_ih_from_rasters(bp_path, cfl_path, out_dir, out_names=names)\n",
    "            print(f\"  ✓ Done. IH written to: {summary['written']['IH']}\")\n",
    "            summaries.append(summary)\n",
    "        except Exception as e:\n",
    "            print(f\"  ✗ Failed: {e}\")\n",
    "            # Optionally append an error record:\n",
    "            summaries.append({\"bp_path\": bp_path, \"cfl_path\": cfl_path, \"output_dir\": out_dir, \"error\": str(e)})\n",
    "    return summaries"
   ]
  },
  {
   "cell_type": "code",
   "execution_count": 26,
   "id": "b2677a53",
   "metadata": {},
   "outputs": [],
   "source": [
    "JOBS = [\n",
    "    {\n",
    "        \"bp\": r\"C:\\Users\\bsf31\\Documents\\data\\NL060\\WFM Outputs\\run_97thV2\\Clip_v2\\SCW_97th_BP_v2.tif\" ,\n",
    "        \"cfl\":r\"C:\\Users\\bsf31\\Documents\\data\\NL060\\WFM Outputs\\run_97thV2\\_CFL_rasters\\Clip_v2\\CFL_ft_SCW_v2.tif\" ,\n",
    "        \"out_dir\": r\"C:\\Users\\bsf31\\Documents\\data\\NL060\\WFM Outputs\\run_97thV2\\IH_Output\\SCW\",\n",
    "        \"names\": {\"IH\": \"IH_SCW.tif\"}  # optional custom filenames\n",
    "    }]"
   ]
  },
  {
   "cell_type": "code",
   "execution_count": 27,
   "id": "0cb1ec5b",
   "metadata": {},
   "outputs": [
    {
     "name": "stdout",
     "output_type": "stream",
     "text": [
      "[1/1] Processing\n",
      "  BP : C:\\Users\\bsf31\\Documents\\data\\NL060\\WFM Outputs\\run_97thV2\\Clip_v2\\SCW_97th_BP_v2.tif\n",
      "  CFL: C:\\Users\\bsf31\\Documents\\data\\NL060\\WFM Outputs\\run_97thV2\\_CFL_rasters\\Clip_v2\\CFL_ft_SCW_v2.tif\n",
      "  →  C:\\Users\\bsf31\\Documents\\data\\NL060\\WFM Outputs\\run_97thV2\\IH_Output\\SCW\n",
      "  ✓ Done. IH written to: C:\\Users\\bsf31\\Documents\\data\\NL060\\WFM Outputs\\run_97thV2\\IH_Output\\SCW\\IH_SCW.tif\n"
     ]
    }
   ],
   "source": [
    "# Run the batch\n",
    "summaries = run_fireshed_batch(JOBS)\n",
    "# 'summaries' contains paths and quick stats per fireshed"
   ]
  },
  {
   "cell_type": "code",
   "execution_count": 28,
   "id": "222be359",
   "metadata": {},
   "outputs": [
    {
     "data": {
      "text/plain": [
       "[{'bp_path': 'C:\\\\Users\\\\bsf31\\\\Documents\\\\data\\\\NL060\\\\WFM Outputs\\\\run_97thV2\\\\Clip_v2\\\\SCW_97th_BP_v2.tif',\n",
       "  'cfl_path': 'C:\\\\Users\\\\bsf31\\\\Documents\\\\data\\\\NL060\\\\WFM Outputs\\\\run_97thV2\\\\_CFL_rasters\\\\Clip_v2\\\\CFL_ft_SCW_v2.tif',\n",
       "  'output_dir': 'C:\\\\Users\\\\bsf31\\\\Documents\\\\data\\\\NL060\\\\WFM Outputs\\\\run_97thV2\\\\IH_Output\\\\SCW',\n",
       "  'bp_max_within_clip': 0.10275841504335403,\n",
       "  'pct_valid': 0.3765794976475567,\n",
       "  'written': {'IH': 'C:\\\\Users\\\\bsf31\\\\Documents\\\\data\\\\NL060\\\\WFM Outputs\\\\run_97thV2\\\\IH_Output\\\\SCW\\\\IH_SCW.tif',\n",
       "   'HAZ': 'C:\\\\Users\\\\bsf31\\\\Documents\\\\data\\\\NL060\\\\WFM Outputs\\\\run_97thV2\\\\IH_Output\\\\SCW\\\\hazard_bp_x_cfl.tif',\n",
       "   'BP_PCT': 'C:\\\\Users\\\\bsf31\\\\Documents\\\\data\\\\NL060\\\\WFM Outputs\\\\run_97thV2\\\\IH_Output\\\\SCW\\\\BP_pct_of_max.tif',\n",
       "   'BP_BIN': 'C:\\\\Users\\\\bsf31\\\\Documents\\\\data\\\\NL060\\\\WFM Outputs\\\\run_97thV2\\\\IH_Output\\\\SCW\\\\BP_bin.tif',\n",
       "   'CFL_BIN': 'C:\\\\Users\\\\bsf31\\\\Documents\\\\data\\\\NL060\\\\WFM Outputs\\\\run_97thV2\\\\IH_Output\\\\SCW\\\\CFL_bin.tif'}}]"
      ]
     },
     "execution_count": 28,
     "metadata": {},
     "output_type": "execute_result"
    }
   ],
   "source": [
    "summaries"
   ]
  },
  {
   "cell_type": "code",
   "execution_count": 35,
   "id": "bd03660e",
   "metadata": {},
   "outputs": [
    {
     "name": "stdout",
     "output_type": "stream",
     "text": [
      "[1/1] Processing\n",
      "  BP : C:\\Users\\bsf31\\Documents\\data\\NL060\\WFM Outputs\\run_97thV2\\Clip_v2\\SCE_97th_BP_v2.tif\n",
      "  CFL: C:\\Users\\bsf31\\Documents\\data\\NL060\\WFM Outputs\\run_97thV2\\_CFL_rasters\\Clip_v2\\CFL_ft_SCE_v2.tif\n",
      "  →  C:\\Users\\bsf31\\Documents\\data\\NL060\\WFM Outputs\\run_97thV2\\IH_Output\\SCE\n",
      "  ✓ Done. IH written to: C:\\Users\\bsf31\\Documents\\data\\NL060\\WFM Outputs\\run_97thV2\\IH_Output\\SCE\\IH_SCE.tif\n"
     ]
    },
    {
     "data": {
      "text/plain": [
       "[{'bp_path': 'C:\\\\Users\\\\bsf31\\\\Documents\\\\data\\\\NL060\\\\WFM Outputs\\\\run_97thV2\\\\Clip_v2\\\\SCE_97th_BP_v2.tif',\n",
       "  'cfl_path': 'C:\\\\Users\\\\bsf31\\\\Documents\\\\data\\\\NL060\\\\WFM Outputs\\\\run_97thV2\\\\_CFL_rasters\\\\Clip_v2\\\\CFL_ft_SCE_v2.tif',\n",
       "  'output_dir': 'C:\\\\Users\\\\bsf31\\\\Documents\\\\data\\\\NL060\\\\WFM Outputs\\\\run_97thV2\\\\IH_Output\\\\SCE',\n",
       "  'bp_max_within_clip': 0.2101859301328659,\n",
       "  'pct_valid': 0.5568473782198246,\n",
       "  'written': {'IH': 'C:\\\\Users\\\\bsf31\\\\Documents\\\\data\\\\NL060\\\\WFM Outputs\\\\run_97thV2\\\\IH_Output\\\\SCE\\\\IH_SCE.tif',\n",
       "   'HAZ': 'C:\\\\Users\\\\bsf31\\\\Documents\\\\data\\\\NL060\\\\WFM Outputs\\\\run_97thV2\\\\IH_Output\\\\SCE\\\\hazard_bp_x_cfl.tif',\n",
       "   'BP_PCT': 'C:\\\\Users\\\\bsf31\\\\Documents\\\\data\\\\NL060\\\\WFM Outputs\\\\run_97thV2\\\\IH_Output\\\\SCE\\\\BP_pct_of_max.tif',\n",
       "   'BP_BIN': 'C:\\\\Users\\\\bsf31\\\\Documents\\\\data\\\\NL060\\\\WFM Outputs\\\\run_97thV2\\\\IH_Output\\\\SCE\\\\BP_bin.tif',\n",
       "   'CFL_BIN': 'C:\\\\Users\\\\bsf31\\\\Documents\\\\data\\\\NL060\\\\WFM Outputs\\\\run_97thV2\\\\IH_Output\\\\SCE\\\\CFL_bin.tif'}}]"
      ]
     },
     "execution_count": 35,
     "metadata": {},
     "output_type": "execute_result"
    }
   ],
   "source": [
    "JOBS = [\n",
    "    {\n",
    "        \"bp\": r\"C:\\Users\\bsf31\\Documents\\data\\NL060\\WFM Outputs\\run_97thV2\\Clip_v2\\SCE_97th_BP_v2.tif\" ,\n",
    "        \"cfl\":r\"C:\\Users\\bsf31\\Documents\\data\\NL060\\WFM Outputs\\run_97thV2\\_CFL_rasters\\Clip_v2\\CFL_ft_SCE_v2.tif\" ,\n",
    "        \"out_dir\": r\"C:\\Users\\bsf31\\Documents\\data\\NL060\\WFM Outputs\\run_97thV2\\IH_Output\\SCE\",\n",
    "        \"names\": {\"IH\": \"IH_SCE.tif\"}  # optional custom filenames\n",
    "    }]\n",
    "# Run the batch\n",
    "summaries = run_fireshed_batch(JOBS)\n",
    "# 'summaries' contains paths and quick stats per fireshed\n",
    "summaries"
   ]
  },
  {
   "cell_type": "code",
   "execution_count": 36,
   "id": "17112c60",
   "metadata": {},
   "outputs": [
    {
     "name": "stdout",
     "output_type": "stream",
     "text": [
      "[1/1] Processing\n",
      "  BP : C:\\Users\\bsf31\\Documents\\data\\NL060\\WFM Outputs\\run_97thV2\\Clip_v2\\Santa_Ynez_97th_BP_v2.tif\n",
      "  CFL: C:\\Users\\bsf31\\Documents\\data\\NL060\\WFM Outputs\\run_97thV2\\_CFL_rasters\\Clip_v2\\CFL_ft_SY_v2.tif\n",
      "  →  C:\\Users\\bsf31\\Documents\\data\\NL060\\WFM Outputs\\run_97thV2\\IH_Output\\SY\n",
      "  ✓ Done. IH written to: C:\\Users\\bsf31\\Documents\\data\\NL060\\WFM Outputs\\run_97thV2\\IH_Output\\SY\\IH_SY.tif\n"
     ]
    },
    {
     "data": {
      "text/plain": [
       "[{'bp_path': 'C:\\\\Users\\\\bsf31\\\\Documents\\\\data\\\\NL060\\\\WFM Outputs\\\\run_97thV2\\\\Clip_v2\\\\Santa_Ynez_97th_BP_v2.tif',\n",
       "  'cfl_path': 'C:\\\\Users\\\\bsf31\\\\Documents\\\\data\\\\NL060\\\\WFM Outputs\\\\run_97thV2\\\\_CFL_rasters\\\\Clip_v2\\\\CFL_ft_SY_v2.tif',\n",
       "  'output_dir': 'C:\\\\Users\\\\bsf31\\\\Documents\\\\data\\\\NL060\\\\WFM Outputs\\\\run_97thV2\\\\IH_Output\\\\SY',\n",
       "  'bp_max_within_clip': 0.08552762120962143,\n",
       "  'pct_valid': 0.5724761514359418,\n",
       "  'written': {'IH': 'C:\\\\Users\\\\bsf31\\\\Documents\\\\data\\\\NL060\\\\WFM Outputs\\\\run_97thV2\\\\IH_Output\\\\SY\\\\IH_SY.tif',\n",
       "   'HAZ': 'C:\\\\Users\\\\bsf31\\\\Documents\\\\data\\\\NL060\\\\WFM Outputs\\\\run_97thV2\\\\IH_Output\\\\SY\\\\hazard_bp_x_cfl.tif',\n",
       "   'BP_PCT': 'C:\\\\Users\\\\bsf31\\\\Documents\\\\data\\\\NL060\\\\WFM Outputs\\\\run_97thV2\\\\IH_Output\\\\SY\\\\BP_pct_of_max.tif',\n",
       "   'BP_BIN': 'C:\\\\Users\\\\bsf31\\\\Documents\\\\data\\\\NL060\\\\WFM Outputs\\\\run_97thV2\\\\IH_Output\\\\SY\\\\BP_bin.tif',\n",
       "   'CFL_BIN': 'C:\\\\Users\\\\bsf31\\\\Documents\\\\data\\\\NL060\\\\WFM Outputs\\\\run_97thV2\\\\IH_Output\\\\SY\\\\CFL_bin.tif'}}]"
      ]
     },
     "execution_count": 36,
     "metadata": {},
     "output_type": "execute_result"
    }
   ],
   "source": [
    "JOBS = [\n",
    "    {\n",
    "        \"bp\": r\"C:\\Users\\bsf31\\Documents\\data\\NL060\\WFM Outputs\\run_97thV2\\Clip_v2\\Santa_Ynez_97th_BP_v2.tif\",\n",
    "        \"cfl\":r\"C:\\Users\\bsf31\\Documents\\data\\NL060\\WFM Outputs\\run_97thV2\\_CFL_rasters\\Clip_v2\\CFL_ft_SY_v2.tif\" ,\n",
    "        \"out_dir\": r\"C:\\Users\\bsf31\\Documents\\data\\NL060\\WFM Outputs\\run_97thV2\\IH_Output\\SY\",\n",
    "        \"names\": {\"IH\": \"IH_SY.tif\"}  # optional custom filenames\n",
    "    }]\n",
    "# Run the batch\n",
    "summaries = run_fireshed_batch(JOBS)\n",
    "# 'summaries' contains paths and quick stats per fireshed\n",
    "summaries"
   ]
  },
  {
   "cell_type": "code",
   "execution_count": 45,
   "id": "59421433",
   "metadata": {},
   "outputs": [
    {
     "name": "stdout",
     "output_type": "stream",
     "text": [
      "[1/1] Processing\n",
      "  BP : C:\\Users\\bsf31\\Documents\\data\\NL060\\WFM Outputs\\run_97thV2\\Clip_v2\\Cuyama_97th_BP_v2.tif\n",
      "  CFL: C:\\Users\\bsf31\\Documents\\data\\NL060\\WFM Outputs\\run_97thV2\\_CFL_rasters\\Clip_v2\\CFL_ft_Cuyama_v2.tif\n",
      "  →  C:\\Users\\bsf31\\Documents\\data\\NL060\\WFM Outputs\\run_97thV2\\IH_Output\\Cuyama\n",
      "  ✓ Done. IH written to: C:\\Users\\bsf31\\Documents\\data\\NL060\\WFM Outputs\\run_97thV2\\IH_Output\\Cuyama\\IH_Cuyama.tif\n"
     ]
    },
    {
     "data": {
      "text/plain": [
       "[{'bp_path': 'C:\\\\Users\\\\bsf31\\\\Documents\\\\data\\\\NL060\\\\WFM Outputs\\\\run_97thV2\\\\Clip_v2\\\\Cuyama_97th_BP_v2.tif',\n",
       "  'cfl_path': 'C:\\\\Users\\\\bsf31\\\\Documents\\\\data\\\\NL060\\\\WFM Outputs\\\\run_97thV2\\\\_CFL_rasters\\\\Clip_v2\\\\CFL_ft_Cuyama_v2.tif',\n",
       "  'output_dir': 'C:\\\\Users\\\\bsf31\\\\Documents\\\\data\\\\NL060\\\\WFM Outputs\\\\run_97thV2\\\\IH_Output\\\\Cuyama',\n",
       "  'bp_max_within_clip': 0.1396866887807846,\n",
       "  'pct_valid': 0.33114187403699535,\n",
       "  'written': {'IH': 'C:\\\\Users\\\\bsf31\\\\Documents\\\\data\\\\NL060\\\\WFM Outputs\\\\run_97thV2\\\\IH_Output\\\\Cuyama\\\\IH_Cuyama.tif',\n",
       "   'HAZ': 'C:\\\\Users\\\\bsf31\\\\Documents\\\\data\\\\NL060\\\\WFM Outputs\\\\run_97thV2\\\\IH_Output\\\\Cuyama\\\\hazard_bp_x_cfl.tif',\n",
       "   'BP_PCT': 'C:\\\\Users\\\\bsf31\\\\Documents\\\\data\\\\NL060\\\\WFM Outputs\\\\run_97thV2\\\\IH_Output\\\\Cuyama\\\\BP_pct_of_max.tif',\n",
       "   'BP_BIN': 'C:\\\\Users\\\\bsf31\\\\Documents\\\\data\\\\NL060\\\\WFM Outputs\\\\run_97thV2\\\\IH_Output\\\\Cuyama\\\\BP_bin.tif',\n",
       "   'CFL_BIN': 'C:\\\\Users\\\\bsf31\\\\Documents\\\\data\\\\NL060\\\\WFM Outputs\\\\run_97thV2\\\\IH_Output\\\\Cuyama\\\\CFL_bin.tif'}}]"
      ]
     },
     "execution_count": 45,
     "metadata": {},
     "output_type": "execute_result"
    }
   ],
   "source": [
    "JOBS = [\n",
    "    {\n",
    "        \"bp\": r\"C:\\Users\\bsf31\\Documents\\data\\NL060\\WFM Outputs\\run_97thV2\\Clip_v2\\Cuyama_97th_BP_v2.tif\",\n",
    "        \"cfl\": r\"C:\\Users\\bsf31\\Documents\\data\\NL060\\WFM Outputs\\run_97thV2\\_CFL_rasters\\Clip_v2\\CFL_ft_Cuyama_v2.tif\",\n",
    "        \"out_dir\": r\"C:\\Users\\bsf31\\Documents\\data\\NL060\\WFM Outputs\\run_97thV2\\IH_Output\\Cuyama\",\n",
    "        \"names\": {\"IH\": \"IH_Cuyama.tif\"}  # optional custom filenames\n",
    "    }]\n",
    "# Run the batch\n",
    "summaries = run_fireshed_batch(JOBS)\n",
    "# 'summaries' contains paths and quick stats per fireshed\n",
    "summaries"
   ]
  }
 ],
 "metadata": {
  "kernelspec": {
   "display_name": "dev_env",
   "language": "python",
   "name": "python3"
  },
  "language_info": {
   "codemirror_mode": {
    "name": "ipython",
    "version": 3
   },
   "file_extension": ".py",
   "mimetype": "text/x-python",
   "name": "python",
   "nbconvert_exporter": "python",
   "pygments_lexer": "ipython3",
   "version": "3.12.3"
  }
 },
 "nbformat": 4,
 "nbformat_minor": 5
}
